{
 "cells": [
  {
   "cell_type": "code",
   "execution_count": 1,
   "metadata": {},
   "outputs": [],
   "source": [
    "# define dependancies\n",
    "import pandas as pd\n",
    "import numpy as np\n",
    "import csv\n",
    "import os"
   ]
  },
  {
   "cell_type": "code",
   "execution_count": null,
   "metadata": {},
   "outputs": [],
   "source": [
    "# the data sources 2017\n",
    "bike71=\"Ressources/201701-citibike-tripdata.csv\"\n",
    "bike72=\"Ressources/201702-citibike-tripdata.csv\"\n",
    "bike73=\"Ressources/201703-citibike-tripdata.csv\"\n",
    "bike74=\"Ressources/201704-citibike-tripdata.csv\"\n",
    "bike75=\"Ressources/201705-citibike-tripdata.csv\"\n",
    "bike76=\"Ressources/201706-citibike-tripdata.csv\"\n",
    "bike77=\"Ressources/201707-citibike-tripdata.csv\"\n",
    "bike78=\"Ressources/201708-citibike-tripdata.csv\"\n",
    "bike79=\"Ressources/201709-citibike-tripdata.csv\"\n",
    "bike710=\"Ressources/201710-citibike-tripdata.csv\"\n",
    "bike711=\"Ressources/201711-citibike-tripdata.csv\"\n",
    "bike712=\"Ressources/201712-citibike-tripdata.csv\"\n",
    "\n",
    "# create a data frame\n",
    "data201701=pd.read_csv(bike71)\n",
    "data201701"
   ]
  },
  {
   "cell_type": "code",
   "execution_count": null,
   "metadata": {},
   "outputs": [],
   "source": [
    "# # data201701.rename(columns ={ 'Trip Duration':'tripduration','Start Time':'starttime','Stop Time':'stoptime','Start Station ID':'start station id',\n",
    "# #                    'Start Station ID':'start station id','Start Station Name':'start station name','Start Station Latitude':'start station latitude','Start Station Longitude':'start station longitude',\n",
    "                   \n",
    "# #                 'End Station ID':'end station id', 'End Station Name':'end station name','End Station Latitude':'end station latitude','End Station Longitude':'end station longitude','Bike ID':'bikeid',\n",
    "# #                    'User Type':'user type','Birth Year':'birth  year','Gender':'gender'}, inplace =True)\n",
    "# # data201701.head()\n",
    "# data201701.rename(columns ={ 'Trip Duration':'tripduration','Start Time':'starttime','Stop Time':'stoptime','Start Station ID':'start station id'\n",
    "#                    ,'Start Station Name':'start station name','Start Station Latitude':'start station latitude','Start Station Longitude':'start station longitude',\n",
    "                   \n",
    "#                 'End Station ID':'end station id', 'End Station Name':'end station name','End Station Latitude':'end station latitude','End Station Longitude':'end station longitude','Bike ID':'bikeid',\n",
    "#                    'User Type':'usertype','Birth Year':'birth  year','Gender':'gender'}, inplace =True)\n",
    "# data201701.head()\n",
    "data201701=data201701.rename(columns = {'Trip Duration': 'tripduration', 'Start Time': 'starttime', \n",
    "                      'Stop Time': 'stoptime', 'Gender':'gender', \"User Type\": \"usertype\",\n",
    "                      'Bike ID': 'bikeid', 'Birth Year': 'birth year', 'Start Station ID': 'start station id',\n",
    "                      'Start Station Name': 'start station name', 'Start Station Latitude': 'start station latitude',\n",
    "                      'Start Station Longitude': 'start station longitude', 'End Station ID': 'end station id', \n",
    "                      'End Station Name': 'end station name', 'End Station Latitude': 'end station latitude',\n",
    "                      'End Station Longitude': 'end station longitude'}, inplace = True)\n",
    "data201701.head()\n"
   ]
  },
  {
   "cell_type": "code",
   "execution_count": null,
   "metadata": {},
   "outputs": [],
   "source": [
    "# df1=data201701['gender']\n",
    "# # df1.head()\n",
    "# male_count=0\n",
    "# female_count=0\n",
    "# for type in df1:\n",
    "#     if type==0:\n",
    "#         male_count +=1\n",
    "#     elif type==2:\n",
    "#         female_count +=1\n",
    "# print(f'male count: {male_count}, female count: {female_count}')       \n",
    "\n"
   ]
  },
  {
   "cell_type": "code",
   "execution_count": null,
   "metadata": {},
   "outputs": [],
   "source": [
    "data201702=pd.read_csv(bike72)\n",
    "data201702"
   ]
  },
  {
   "cell_type": "code",
   "execution_count": null,
   "metadata": {},
   "outputs": [],
   "source": [
    "# data201702.rename(columns ={ 'Trip Duration':'tripduration','Start Time':'startime','Stop Time':'stoptime','Start Station ID':'start station id',\n",
    "#                    'Start Station ID':'start station id','Start Station Name':'start station name','Start Station Latitude':'start station latitude','Start Station Longitude':'start station longitude',\n",
    "                   \n",
    "#                 'End Station ID':'end station id', 'End Station Name':'end station name','End Station Latitude':'end station latitude','End Station Longitude':'end station longitude','Bike ID':'bikeid',\n",
    "#                    'User Type':'user type','Birth Year':'birth  year','Gender':'gender'}, inplace =True)\n",
    "\n",
    "# data201702.head()\n",
    "data201702=data201702.rename(columns = {'Trip Duration': 'tripduration', 'Start Time': 'starttime', \n",
    "                      'Stop Time': 'stoptime', 'Gender':'gender', \"User Type\": \"usertype\",\n",
    "                      'Bike ID': 'bikeid', 'Birth Year': 'birth year', 'Start Station ID': 'start station id',\n",
    "                      'Start Station Name': 'start station name', 'Start Station Latitude': 'start station latitude',\n",
    "                      'Start Station Longitude': 'start station longitude', 'End Station ID': 'end station id', \n",
    "                      'End Station Name': 'end station name', 'End Station Latitude': 'end station latitude',\n",
    "                      'End Station Longitude': 'end station longitude'}, inplace = True)\n",
    "data201702.head()"
   ]
  },
  {
   "cell_type": "code",
   "execution_count": null,
   "metadata": {},
   "outputs": [],
   "source": [
    "data201703=data201703=pd.read_csv(bike73)\n",
    "data201703"
   ]
  },
  {
   "cell_type": "code",
   "execution_count": null,
   "metadata": {},
   "outputs": [],
   "source": [
    "data201703=data201703.rename(columns = {'Trip Duration': 'tripduration', 'Start Time': 'starttime', \n",
    "                      'Stop Time': 'stoptime', 'Gender':'gender', \"User Type\": \"usertype\",\n",
    "                      'Bike ID': 'bikeid', 'Birth Year': 'birth year', 'Start Station ID': 'start station id',\n",
    "                      'Start Station Name': 'start station name', 'Start Station Latitude': 'start station latitude',\n",
    "                      'Start Station Longitude': 'start station longitude', 'End Station ID': 'end station id', \n",
    "                      'End Station Name': 'end station name', 'End Station Latitude': 'end station latitude',\n",
    "                      'End Station Longitude': 'end station longitude'}, inplace = True)\n",
    "data201703.head()"
   ]
  },
  {
   "cell_type": "code",
   "execution_count": null,
   "metadata": {},
   "outputs": [],
   "source": [
    "data201704=pd.read_csv(bike74)\n",
    "data201704"
   ]
  },
  {
   "cell_type": "code",
   "execution_count": null,
   "metadata": {},
   "outputs": [],
   "source": [
    "data201705=pd.read_csv(bike75)\n",
    "data201705"
   ]
  },
  {
   "cell_type": "code",
   "execution_count": null,
   "metadata": {},
   "outputs": [],
   "source": [
    "data201706=pd.read_csv(bike76)\n",
    "data201706"
   ]
  },
  {
   "cell_type": "code",
   "execution_count": null,
   "metadata": {},
   "outputs": [],
   "source": [
    "data201707=pd.read_csv(bike77)\n",
    "data201707"
   ]
  },
  {
   "cell_type": "code",
   "execution_count": null,
   "metadata": {},
   "outputs": [],
   "source": [
    "data201708=pd.read_csv(bike78)\n",
    "data201708"
   ]
  },
  {
   "cell_type": "code",
   "execution_count": null,
   "metadata": {},
   "outputs": [],
   "source": [
    "data201709=pd.read_csv(bike79)\n",
    "data201709"
   ]
  },
  {
   "cell_type": "code",
   "execution_count": null,
   "metadata": {},
   "outputs": [],
   "source": [
    "data201710=pd.read_csv(bike710)\n",
    "data201710"
   ]
  },
  {
   "cell_type": "code",
   "execution_count": null,
   "metadata": {},
   "outputs": [],
   "source": [
    "data201711=pd.read_csv(bike711)\n",
    "data201711"
   ]
  },
  {
   "cell_type": "code",
   "execution_count": null,
   "metadata": {},
   "outputs": [],
   "source": [
    "data201712=pd.read_csv(bike712)\n",
    "data201712"
   ]
  },
  {
   "cell_type": "code",
   "execution_count": null,
   "metadata": {},
   "outputs": [],
   "source": [
    "citibike_2017 = pd.concat([data201701,data201702,data201703,data201704, data201705, data201706, data201707, data201708, data201709, data201710, data201711, data201712],sort=False)\n",
    "citibike_2017.head()"
   ]
  },
  {
   "cell_type": "code",
   "execution_count": null,
   "metadata": {},
   "outputs": [],
   "source": [
    "# citibikeNY_2017 = citibike_2017.drop(citibike_2017.columns[[15, 16, 17]], axis=1) \n",
    "# citibikeNY_2017"
   ]
  },
  {
   "cell_type": "code",
   "execution_count": null,
   "metadata": {},
   "outputs": [],
   "source": [
    "# citibike_2017.count()"
   ]
  },
  {
   "cell_type": "code",
   "execution_count": null,
   "metadata": {},
   "outputs": [],
   "source": []
  },
  {
   "cell_type": "code",
   "execution_count": null,
   "metadata": {},
   "outputs": [],
   "source": [
    "citibike_2017.count()"
   ]
  },
  {
   "cell_type": "code",
   "execution_count": null,
   "metadata": {},
   "outputs": [],
   "source": [
    "df_csv =citibike_2017.to_csv(r'C:\\\\Users\\\\Badou\\\\Desktop\\\\tableau-homework\\\\NYk_Citibike_2017.csv', index = None, header=True)\n",
    "df_csv"
   ]
  },
  {
   "cell_type": "code",
   "execution_count": null,
   "metadata": {},
   "outputs": [],
   "source": []
  }
 ],
 "metadata": {
  "kernelspec": {
   "display_name": "Python 3",
   "language": "python",
   "name": "python3"
  },
  "language_info": {
   "codemirror_mode": {
    "name": "ipython",
    "version": 3
   },
   "file_extension": ".py",
   "mimetype": "text/x-python",
   "name": "python",
   "nbconvert_exporter": "python",
   "pygments_lexer": "ipython3",
   "version": "3.7.3"
  }
 },
 "nbformat": 4,
 "nbformat_minor": 2
}
